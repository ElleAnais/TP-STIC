{
 "cells": [
  {
   "cell_type": "markdown",
   "metadata": {},
   "source": [
    "# TP1 Régression lineaire"
   ]
  },
  {
   "cell_type": "markdown",
   "metadata": {},
   "source": [
    "### Importation des librairies"
   ]
  },
  {
   "cell_type": "code",
   "execution_count": 21,
   "metadata": {},
   "outputs": [],
   "source": [
    "import numpy as np\n",
    "import matplotlib.pyplot as pl\n",
    "import pandas as pd"
   ]
  },
  {
   "cell_type": "markdown",
   "metadata": {},
   "source": [
    "## III- Régression linéaire multiple avec l'algorithme de descente du gradient"
   ]
  },
  {
   "cell_type": "markdown",
   "metadata": {},
   "source": [
    "### III-1. Lecture des données "
   ]
  },
  {
   "cell_type": "code",
   "execution_count": 22,
   "metadata": {},
   "outputs": [
    {
     "ename": "FileNotFoundError",
     "evalue": "[Errno 2] No such file or directory: './house.txt'",
     "output_type": "error",
     "traceback": [
      "\u001b[1;31m---------------------------------------------------------------------------\u001b[0m",
      "\u001b[1;31mFileNotFoundError\u001b[0m                         Traceback (most recent call last)",
      "\u001b[1;32me:\\univ\\APM\\TP1_Pr3_BAKTACHE_BELAKEHAL_DADDIOUAMER_.ipynb Cellule 6\u001b[0m line \u001b[0;36m1\n\u001b[1;32m----> <a href='vscode-notebook-cell:/e%3A/univ/APM/TP1_Pr3_BAKTACHE_BELAKEHAL_DADDIOUAMER_.ipynb#W5sZmlsZQ%3D%3D?line=0'>1</a>\u001b[0m df \u001b[39m=\u001b[39m pd\u001b[39m.\u001b[39;49mread_csv(\u001b[39m'\u001b[39;49m\u001b[39m./house.txt\u001b[39;49m\u001b[39m'\u001b[39;49m)\n",
      "File \u001b[1;32m~\\AppData\\Roaming\\Python\\Python312\\site-packages\\pandas\\io\\parsers\\readers.py:948\u001b[0m, in \u001b[0;36mread_csv\u001b[1;34m(filepath_or_buffer, sep, delimiter, header, names, index_col, usecols, dtype, engine, converters, true_values, false_values, skipinitialspace, skiprows, skipfooter, nrows, na_values, keep_default_na, na_filter, verbose, skip_blank_lines, parse_dates, infer_datetime_format, keep_date_col, date_parser, date_format, dayfirst, cache_dates, iterator, chunksize, compression, thousands, decimal, lineterminator, quotechar, quoting, doublequote, escapechar, comment, encoding, encoding_errors, dialect, on_bad_lines, delim_whitespace, low_memory, memory_map, float_precision, storage_options, dtype_backend)\u001b[0m\n\u001b[0;32m    935\u001b[0m kwds_defaults \u001b[39m=\u001b[39m _refine_defaults_read(\n\u001b[0;32m    936\u001b[0m     dialect,\n\u001b[0;32m    937\u001b[0m     delimiter,\n\u001b[1;32m   (...)\u001b[0m\n\u001b[0;32m    944\u001b[0m     dtype_backend\u001b[39m=\u001b[39mdtype_backend,\n\u001b[0;32m    945\u001b[0m )\n\u001b[0;32m    946\u001b[0m kwds\u001b[39m.\u001b[39mupdate(kwds_defaults)\n\u001b[1;32m--> 948\u001b[0m \u001b[39mreturn\u001b[39;00m _read(filepath_or_buffer, kwds)\n",
      "File \u001b[1;32m~\\AppData\\Roaming\\Python\\Python312\\site-packages\\pandas\\io\\parsers\\readers.py:611\u001b[0m, in \u001b[0;36m_read\u001b[1;34m(filepath_or_buffer, kwds)\u001b[0m\n\u001b[0;32m    608\u001b[0m _validate_names(kwds\u001b[39m.\u001b[39mget(\u001b[39m\"\u001b[39m\u001b[39mnames\u001b[39m\u001b[39m\"\u001b[39m, \u001b[39mNone\u001b[39;00m))\n\u001b[0;32m    610\u001b[0m \u001b[39m# Create the parser.\u001b[39;00m\n\u001b[1;32m--> 611\u001b[0m parser \u001b[39m=\u001b[39m TextFileReader(filepath_or_buffer, \u001b[39m*\u001b[39;49m\u001b[39m*\u001b[39;49mkwds)\n\u001b[0;32m    613\u001b[0m \u001b[39mif\u001b[39;00m chunksize \u001b[39mor\u001b[39;00m iterator:\n\u001b[0;32m    614\u001b[0m     \u001b[39mreturn\u001b[39;00m parser\n",
      "File \u001b[1;32m~\\AppData\\Roaming\\Python\\Python312\\site-packages\\pandas\\io\\parsers\\readers.py:1448\u001b[0m, in \u001b[0;36mTextFileReader.__init__\u001b[1;34m(self, f, engine, **kwds)\u001b[0m\n\u001b[0;32m   1445\u001b[0m     \u001b[39mself\u001b[39m\u001b[39m.\u001b[39moptions[\u001b[39m\"\u001b[39m\u001b[39mhas_index_names\u001b[39m\u001b[39m\"\u001b[39m] \u001b[39m=\u001b[39m kwds[\u001b[39m\"\u001b[39m\u001b[39mhas_index_names\u001b[39m\u001b[39m\"\u001b[39m]\n\u001b[0;32m   1447\u001b[0m \u001b[39mself\u001b[39m\u001b[39m.\u001b[39mhandles: IOHandles \u001b[39m|\u001b[39m \u001b[39mNone\u001b[39;00m \u001b[39m=\u001b[39m \u001b[39mNone\u001b[39;00m\n\u001b[1;32m-> 1448\u001b[0m \u001b[39mself\u001b[39m\u001b[39m.\u001b[39m_engine \u001b[39m=\u001b[39m \u001b[39mself\u001b[39;49m\u001b[39m.\u001b[39;49m_make_engine(f, \u001b[39mself\u001b[39;49m\u001b[39m.\u001b[39;49mengine)\n",
      "File \u001b[1;32m~\\AppData\\Roaming\\Python\\Python312\\site-packages\\pandas\\io\\parsers\\readers.py:1705\u001b[0m, in \u001b[0;36mTextFileReader._make_engine\u001b[1;34m(self, f, engine)\u001b[0m\n\u001b[0;32m   1703\u001b[0m     \u001b[39mif\u001b[39;00m \u001b[39m\"\u001b[39m\u001b[39mb\u001b[39m\u001b[39m\"\u001b[39m \u001b[39mnot\u001b[39;00m \u001b[39min\u001b[39;00m mode:\n\u001b[0;32m   1704\u001b[0m         mode \u001b[39m+\u001b[39m\u001b[39m=\u001b[39m \u001b[39m\"\u001b[39m\u001b[39mb\u001b[39m\u001b[39m\"\u001b[39m\n\u001b[1;32m-> 1705\u001b[0m \u001b[39mself\u001b[39m\u001b[39m.\u001b[39mhandles \u001b[39m=\u001b[39m get_handle(\n\u001b[0;32m   1706\u001b[0m     f,\n\u001b[0;32m   1707\u001b[0m     mode,\n\u001b[0;32m   1708\u001b[0m     encoding\u001b[39m=\u001b[39;49m\u001b[39mself\u001b[39;49m\u001b[39m.\u001b[39;49moptions\u001b[39m.\u001b[39;49mget(\u001b[39m\"\u001b[39;49m\u001b[39mencoding\u001b[39;49m\u001b[39m\"\u001b[39;49m, \u001b[39mNone\u001b[39;49;00m),\n\u001b[0;32m   1709\u001b[0m     compression\u001b[39m=\u001b[39;49m\u001b[39mself\u001b[39;49m\u001b[39m.\u001b[39;49moptions\u001b[39m.\u001b[39;49mget(\u001b[39m\"\u001b[39;49m\u001b[39mcompression\u001b[39;49m\u001b[39m\"\u001b[39;49m, \u001b[39mNone\u001b[39;49;00m),\n\u001b[0;32m   1710\u001b[0m     memory_map\u001b[39m=\u001b[39;49m\u001b[39mself\u001b[39;49m\u001b[39m.\u001b[39;49moptions\u001b[39m.\u001b[39;49mget(\u001b[39m\"\u001b[39;49m\u001b[39mmemory_map\u001b[39;49m\u001b[39m\"\u001b[39;49m, \u001b[39mFalse\u001b[39;49;00m),\n\u001b[0;32m   1711\u001b[0m     is_text\u001b[39m=\u001b[39;49mis_text,\n\u001b[0;32m   1712\u001b[0m     errors\u001b[39m=\u001b[39;49m\u001b[39mself\u001b[39;49m\u001b[39m.\u001b[39;49moptions\u001b[39m.\u001b[39;49mget(\u001b[39m\"\u001b[39;49m\u001b[39mencoding_errors\u001b[39;49m\u001b[39m\"\u001b[39;49m, \u001b[39m\"\u001b[39;49m\u001b[39mstrict\u001b[39;49m\u001b[39m\"\u001b[39;49m),\n\u001b[0;32m   1713\u001b[0m     storage_options\u001b[39m=\u001b[39;49m\u001b[39mself\u001b[39;49m\u001b[39m.\u001b[39;49moptions\u001b[39m.\u001b[39;49mget(\u001b[39m\"\u001b[39;49m\u001b[39mstorage_options\u001b[39;49m\u001b[39m\"\u001b[39;49m, \u001b[39mNone\u001b[39;49;00m),\n\u001b[0;32m   1714\u001b[0m )\n\u001b[0;32m   1715\u001b[0m \u001b[39massert\u001b[39;00m \u001b[39mself\u001b[39m\u001b[39m.\u001b[39mhandles \u001b[39mis\u001b[39;00m \u001b[39mnot\u001b[39;00m \u001b[39mNone\u001b[39;00m\n\u001b[0;32m   1716\u001b[0m f \u001b[39m=\u001b[39m \u001b[39mself\u001b[39m\u001b[39m.\u001b[39mhandles\u001b[39m.\u001b[39mhandle\n",
      "File \u001b[1;32m~\\AppData\\Roaming\\Python\\Python312\\site-packages\\pandas\\io\\common.py:863\u001b[0m, in \u001b[0;36mget_handle\u001b[1;34m(path_or_buf, mode, encoding, compression, memory_map, is_text, errors, storage_options)\u001b[0m\n\u001b[0;32m    858\u001b[0m \u001b[39melif\u001b[39;00m \u001b[39misinstance\u001b[39m(handle, \u001b[39mstr\u001b[39m):\n\u001b[0;32m    859\u001b[0m     \u001b[39m# Check whether the filename is to be opened in binary mode.\u001b[39;00m\n\u001b[0;32m    860\u001b[0m     \u001b[39m# Binary mode does not support 'encoding' and 'newline'.\u001b[39;00m\n\u001b[0;32m    861\u001b[0m     \u001b[39mif\u001b[39;00m ioargs\u001b[39m.\u001b[39mencoding \u001b[39mand\u001b[39;00m \u001b[39m\"\u001b[39m\u001b[39mb\u001b[39m\u001b[39m\"\u001b[39m \u001b[39mnot\u001b[39;00m \u001b[39min\u001b[39;00m ioargs\u001b[39m.\u001b[39mmode:\n\u001b[0;32m    862\u001b[0m         \u001b[39m# Encoding\u001b[39;00m\n\u001b[1;32m--> 863\u001b[0m         handle \u001b[39m=\u001b[39m \u001b[39mopen\u001b[39;49m(\n\u001b[0;32m    864\u001b[0m             handle,\n\u001b[0;32m    865\u001b[0m             ioargs\u001b[39m.\u001b[39;49mmode,\n\u001b[0;32m    866\u001b[0m             encoding\u001b[39m=\u001b[39;49mioargs\u001b[39m.\u001b[39;49mencoding,\n\u001b[0;32m    867\u001b[0m             errors\u001b[39m=\u001b[39;49merrors,\n\u001b[0;32m    868\u001b[0m             newline\u001b[39m=\u001b[39;49m\u001b[39m\"\u001b[39;49m\u001b[39m\"\u001b[39;49m,\n\u001b[0;32m    869\u001b[0m         )\n\u001b[0;32m    870\u001b[0m     \u001b[39melse\u001b[39;00m:\n\u001b[0;32m    871\u001b[0m         \u001b[39m# Binary mode\u001b[39;00m\n\u001b[0;32m    872\u001b[0m         handle \u001b[39m=\u001b[39m \u001b[39mopen\u001b[39m(handle, ioargs\u001b[39m.\u001b[39mmode)\n",
      "\u001b[1;31mFileNotFoundError\u001b[0m: [Errno 2] No such file or directory: './house.txt'"
     ]
    }
   ],
   "source": [
    "df = pd.read_csv('./house.txt')"
   ]
  },
  {
   "cell_type": "markdown",
   "metadata": {},
   "source": [
    "### III-2. Conversion du txt vers csv"
   ]
  },
  {
   "cell_type": "code",
   "execution_count": null,
   "metadata": {
    "scrolled": true
   },
   "outputs": [
    {
     "data": {
      "text/html": [
       "<div>\n",
       "<style scoped>\n",
       "    .dataframe tbody tr th:only-of-type {\n",
       "        vertical-align: middle;\n",
       "    }\n",
       "\n",
       "    .dataframe tbody tr th {\n",
       "        vertical-align: top;\n",
       "    }\n",
       "\n",
       "    .dataframe thead th {\n",
       "        text-align: right;\n",
       "    }\n",
       "</style>\n",
       "<table border=\"1\" class=\"dataframe\">\n",
       "  <thead>\n",
       "    <tr style=\"text-align: right;\">\n",
       "      <th></th>\n",
       "      <th>area</th>\n",
       "      <th>bedrooms</th>\n",
       "      <th>floors</th>\n",
       "      <th>age</th>\n",
       "      <th>price</th>\n",
       "    </tr>\n",
       "  </thead>\n",
       "  <tbody>\n",
       "    <tr>\n",
       "      <th>0</th>\n",
       "      <td>952.0</td>\n",
       "      <td>2.0</td>\n",
       "      <td>1.0</td>\n",
       "      <td>65.0</td>\n",
       "      <td>271.5</td>\n",
       "    </tr>\n",
       "    <tr>\n",
       "      <th>1</th>\n",
       "      <td>1244.0</td>\n",
       "      <td>3.0</td>\n",
       "      <td>1.0</td>\n",
       "      <td>64.0</td>\n",
       "      <td>300.0</td>\n",
       "    </tr>\n",
       "    <tr>\n",
       "      <th>2</th>\n",
       "      <td>1947.0</td>\n",
       "      <td>3.0</td>\n",
       "      <td>2.0</td>\n",
       "      <td>17.0</td>\n",
       "      <td>509.8</td>\n",
       "    </tr>\n",
       "    <tr>\n",
       "      <th>3</th>\n",
       "      <td>1725.0</td>\n",
       "      <td>3.0</td>\n",
       "      <td>2.0</td>\n",
       "      <td>42.0</td>\n",
       "      <td>394.0</td>\n",
       "    </tr>\n",
       "    <tr>\n",
       "      <th>4</th>\n",
       "      <td>1959.0</td>\n",
       "      <td>3.0</td>\n",
       "      <td>2.0</td>\n",
       "      <td>15.0</td>\n",
       "      <td>540.0</td>\n",
       "    </tr>\n",
       "  </tbody>\n",
       "</table>\n",
       "</div>"
      ],
      "text/plain": [
       "     area  bedrooms  floors   age  price\n",
       "0   952.0       2.0     1.0  65.0  271.5\n",
       "1  1244.0       3.0     1.0  64.0  300.0\n",
       "2  1947.0       3.0     2.0  17.0  509.8\n",
       "3  1725.0       3.0     2.0  42.0  394.0\n",
       "4  1959.0       3.0     2.0  15.0  540.0"
      ]
     },
     "execution_count": 6,
     "metadata": {},
     "output_type": "execute_result"
    }
   ],
   "source": [
    "df.to_csv('./house.csv',index=False)\n",
    "features=['area','bedrooms','floors','age','price']\n",
    "house = pd.read_csv('./house.csv',names=features)\n",
    "house.head()"
   ]
  },
  {
   "cell_type": "markdown",
   "metadata": {},
   "source": [
    "### III-3. extraction des features et du label"
   ]
  },
  {
   "cell_type": "code",
   "execution_count": null,
   "metadata": {},
   "outputs": [],
   "source": [
    "X=house.iloc[:,:4]   # diviser house data en X (features) et y (labels)\n",
    "y=house.iloc[:,4]"
   ]
  },
  {
   "cell_type": "code",
   "execution_count": null,
   "metadata": {},
   "outputs": [
    {
     "data": {
      "text/html": [
       "<div>\n",
       "<style scoped>\n",
       "    .dataframe tbody tr th:only-of-type {\n",
       "        vertical-align: middle;\n",
       "    }\n",
       "\n",
       "    .dataframe tbody tr th {\n",
       "        vertical-align: top;\n",
       "    }\n",
       "\n",
       "    .dataframe thead th {\n",
       "        text-align: right;\n",
       "    }\n",
       "</style>\n",
       "<table border=\"1\" class=\"dataframe\">\n",
       "  <thead>\n",
       "    <tr style=\"text-align: right;\">\n",
       "      <th></th>\n",
       "      <th>area</th>\n",
       "      <th>bedrooms</th>\n",
       "      <th>floors</th>\n",
       "      <th>age</th>\n",
       "    </tr>\n",
       "  </thead>\n",
       "  <tbody>\n",
       "    <tr>\n",
       "      <th>0</th>\n",
       "      <td>952.0</td>\n",
       "      <td>2.0</td>\n",
       "      <td>1.0</td>\n",
       "      <td>65.0</td>\n",
       "    </tr>\n",
       "    <tr>\n",
       "      <th>1</th>\n",
       "      <td>1244.0</td>\n",
       "      <td>3.0</td>\n",
       "      <td>1.0</td>\n",
       "      <td>64.0</td>\n",
       "    </tr>\n",
       "    <tr>\n",
       "      <th>2</th>\n",
       "      <td>1947.0</td>\n",
       "      <td>3.0</td>\n",
       "      <td>2.0</td>\n",
       "      <td>17.0</td>\n",
       "    </tr>\n",
       "    <tr>\n",
       "      <th>3</th>\n",
       "      <td>1725.0</td>\n",
       "      <td>3.0</td>\n",
       "      <td>2.0</td>\n",
       "      <td>42.0</td>\n",
       "    </tr>\n",
       "    <tr>\n",
       "      <th>4</th>\n",
       "      <td>1959.0</td>\n",
       "      <td>3.0</td>\n",
       "      <td>2.0</td>\n",
       "      <td>15.0</td>\n",
       "    </tr>\n",
       "  </tbody>\n",
       "</table>\n",
       "</div>"
      ],
      "text/plain": [
       "     area  bedrooms  floors   age\n",
       "0   952.0       2.0     1.0  65.0\n",
       "1  1244.0       3.0     1.0  64.0\n",
       "2  1947.0       3.0     2.0  17.0\n",
       "3  1725.0       3.0     2.0  42.0\n",
       "4  1959.0       3.0     2.0  15.0"
      ]
     },
     "execution_count": 8,
     "metadata": {},
     "output_type": "execute_result"
    }
   ],
   "source": [
    "X.head()"
   ]
  },
  {
   "cell_type": "code",
   "execution_count": null,
   "metadata": {},
   "outputs": [
    {
     "data": {
      "text/plain": [
       "0    271.5\n",
       "1    300.0\n",
       "2    509.8\n",
       "3    394.0\n",
       "4    540.0\n",
       "Name: price, dtype: float64"
      ]
     },
     "execution_count": 9,
     "metadata": {},
     "output_type": "execute_result"
    }
   ],
   "source": [
    "y.head()"
   ]
  },
  {
   "cell_type": "markdown",
   "metadata": {},
   "source": [
    "### III-4. Division du dataset en données d'entrainement et données de test"
   ]
  },
  {
   "cell_type": "code",
   "execution_count": null,
   "metadata": {},
   "outputs": [],
   "source": [
    "X=np.array(X)\n",
    "from sklearn.model_selection import train_test_split\n",
    "X_train,X_test,y_train,y_test=train_test_split(X,y,test_size=1/3,random_state=0)\n"
   ]
  },
  {
   "cell_type": "markdown",
   "metadata": {},
   "source": [
    "### II-5. La prédiction"
   ]
  },
  {
   "cell_type": "markdown",
   "metadata": {},
   "source": [
    "Soit \\$X\\$ les données et \\$N\\$ le nombre de parametres du modèle de régression linéaire. \n",
    "\n",
    "On cherche à prédire: \\$\\$\\hat{Y} = \\sum\\limits\\_{j=0}^{N} a_j X_j\\$\\$ avec \\$\\$X_0=1\\$\\$\n",
    "\n",
    "Le but de l'algorithme de descente du gradient est de trouver les parametres \\$a_j\\$ qui minimisent la fonction coût\n",
    " "
   ]
  },
  {
   "cell_type": "code",
   "execution_count": null,
   "metadata": {},
   "outputs": [
    {
     "data": {
      "text/plain": [
       "array([2.75, 5.25, 4.25])"
      ]
     },
     "execution_count": 3,
     "metadata": {},
     "output_type": "execute_result"
    }
   ],
   "source": [
    "# todo\n",
    "\n",
    "# Ecrire la fonction prédiction qui estime y_hat\n",
    "def prediction(X, a):\n",
    "  \"\"\"\n",
    "  Calculate y_hat.\n",
    "    \n",
    "  Args:\n",
    "    X (ndarray (n,)): Data, n examples \n",
    "    a : model parameters  \n",
    "  \n",
    "  Returns\n",
    "      y_hat\n",
    "  \"\"\"\n",
    "  return np.dot(X, a)\n",
    "  return(y_hat)\n",
    "X_t =np.array([[1., 5.],[1., 10.],[1., 8]])\n",
    "theta_t = np.array([0.25,0.5])\n",
    "prediction(X_t,theta_t)\n",
    " \n",
    "      "
   ]
  },
  {
   "cell_type": "markdown",
   "metadata": {},
   "source": [
    "### III-6. La fonction coût\n",
    "\n",
    "La fonction du coût J est définie comme suit:\n",
    "\n",
    "\\$\\$J =  \\frac{1}{2n} \\sum\\limits\\_{i=1}^{n}\n",
    "(Y - \\hat{Y})^2\\$\\$\n"
   ]
  },
  {
   "cell_type": "code",
   "execution_count": null,
   "metadata": {},
   "outputs": [
    {
     "name": "stdout",
     "output_type": "stream",
     "text": [
      "0.03125\n"
     ]
    }
   ],
   "source": [
    "# TODO: La fonction coût à minimiser est donnée par la formule suivante:\n",
    "\n",
    "def J(X, Y, a):\n",
    "    \"\"\"\n",
    "    Calculer J.\n",
    "\n",
    "    Args:\n",
    "        X (ndarray): n samples \n",
    "        Y (ndarray): n Target labels   \n",
    "        a  (ndarray): p parameters models\n",
    "\n",
    "    Returns:\n",
    "        J\n",
    "    \"\"\"\n",
    "    Y_hat = prediction(X, a)\n",
    "    J = np.mean((Y - Y_hat)**2) / 2\n",
    "    return J\n",
    "\n",
    "# Test de la fonction coût avec des données d'exemple\n",
    "X_t = np.array([[1., 5.], [1., 10.], [1., 8.]])\n",
    "theta_t = np.array([0.25, 0.5])\n",
    "Y_t = np.array([3., 5., 4.5])\n",
    "cost = J(X_t, Y_t, theta_t)\n",
    "print(cost)\n"
   ]
  },
  {
   "cell_type": "markdown",
   "metadata": {},
   "source": [
    "### III-7. Calcul des dérivées partielles"
   ]
  },
  {
   "cell_type": "markdown",
   "metadata": {},
   "source": [
    "On calcule les dérivées partielles ppur chaque parametre comme suit: \n",
    "\n",
    "\\$\\$\\frac{\\partial J}{\\partial a_j} = \\frac{\\partial }{\\partial a_j} \\frac{1}{2n} \\sum\\limits\\_{i=1}^{n} (Y -\\hat{Y})^2\\$\\$\n",
    " \n",
    "\n",
    "\\$\\$\\frac{\\partial J}{\\partial a_j} = \\frac{1}{n} \\sum\\limits\\_{i=1}^{n} -(Y^{(i)} - \\hat{Y}^{(i)})X_j^{(i)}\\$\\$  \n"
   ]
  },
  {
   "cell_type": "code",
   "execution_count": null,
   "metadata": {},
   "outputs": [
    {
     "name": "stdout",
     "output_type": "stream",
     "text": [
      "résultats: [0.08333333 0.25      ]\n"
     ]
    }
   ],
   "source": [
    "\n",
    "\n",
    "\n",
    "# TODO: écrire la fonction dérivées qui calcule les dérivées partielles par rapport à chaque paramètre du modèle\n",
    "def derivees_partielles(X, Y, a):\n",
    "    \"\"\"\n",
    "    Calculer dérivées partielles.\n",
    "    \n",
    "    Args:\n",
    "        X (ndarray): Data, n examples \n",
    "        Y (ndarray): Label, n labels   \n",
    "        a          : model parameters  \n",
    "    \n",
    "    Returns:\n",
    "        derivees\n",
    "    \"\"\"\n",
    "    erreur = (Y - prediction(X, a))\n",
    "\n",
    "    # Calculer les dérivées partielles\n",
    "    derivees = (1 / len(Y)) * np.dot(X.T, erreur)\n",
    "\n",
    "    return derivees\n",
    "\n",
    "# Test de la fonction dérivées avec des données d'exemple\n",
    "X_t = np.array([[1., 5.], [1., 10.], [1., 8]])\n",
    "theta_t = np.array([0.25, 0.5])\n",
    "Y_t = np.array([3., 5., 4.5])\n",
    "print(\"résultats:\", derivees_partielles(X_t, Y_t, theta_t))\n",
    "\n",
    " "
   ]
  },
  {
   "cell_type": "markdown",
   "metadata": {},
   "source": [
    "### III-8.  l'algorithme de descente de gradient"
   ]
  },
  {
   "cell_type": "markdown",
   "metadata": {},
   "source": [
    "#### Types des algorithmes de descente de gradient\n",
    "Il existe 3 types d'algorithmes de descente de gradient\n",
    "\n",
    "##### 1- Descente de gradient par batch\n",
    "   Tous les exemples sont pris en considération durant chaque itération. On prend la moyenne du gradient de tous les exemples et on utilise cette moyenne pour la mise à jour des paramètres. \n",
    "\n",
    "##### 2- Descente de gradient mini batch\n",
    "  On utilise un batch constitué d’un nombre réduit de tous les exemples d’où le nom mini batch. Durant chaque itération, on choisit un mini batch, on calcule la moyenne du gradient de ce mini batch et on met à jour les paramètres du modèle . Pour la prochaine itération, on choisit un autre mini batch et ainsi de suite. \n",
    "\n",
    "##### 3- Descente de gradient stochastique\n",
    "  Dans une itération, un exemple est choisi aléatoirement du dataset et le gradient de cet exemple est utilisé pour mettre à jour les paramètres du modèle. Dans la prochaine itération, un autre exemple est choisi et ainsi de suite. \n"
   ]
  },
  {
   "cell_type": "markdown",
   "metadata": {},
   "source": [
    "###  Vous allez implementer dans ce TP l'algorithme de descente de gradient par Batch"
   ]
  },
  {
   "cell_type": "code",
   "execution_count": 28,
   "metadata": {},
   "outputs": [
    {
     "ename": "NameError",
     "evalue": "name 'X_train' is not defined",
     "output_type": "error",
     "traceback": [
      "\u001b[1;31m---------------------------------------------------------------------------\u001b[0m",
      "\u001b[1;31mNameError\u001b[0m                                 Traceback (most recent call last)",
      "\u001b[1;32me:\\univ\\APM\\TP1_Pr3_BAKTACHE_BELAKEHAL_DADDIOUAMER_.ipynb Cellule 26\u001b[0m line \u001b[0;36m1\n\u001b[0;32m     <a href='vscode-notebook-cell:/e%3A/univ/APM/TP1_Pr3_BAKTACHE_BELAKEHAL_DADDIOUAMER_.ipynb#X34sZmlsZQ%3D%3D?line=9'>10</a>\u001b[0m     \u001b[39mpass\u001b[39;00m\n\u001b[0;32m     <a href='vscode-notebook-cell:/e%3A/univ/APM/TP1_Pr3_BAKTACHE_BELAKEHAL_DADDIOUAMER_.ipynb#X34sZmlsZQ%3D%3D?line=13'>14</a>\u001b[0m \u001b[39m# initialisation des parametres\u001b[39;00m\n\u001b[0;32m     <a href='vscode-notebook-cell:/e%3A/univ/APM/TP1_Pr3_BAKTACHE_BELAKEHAL_DADDIOUAMER_.ipynb#X34sZmlsZQ%3D%3D?line=14'>15</a>\u001b[0m \u001b[39m# a est un vecteur contenant les valeurs initiales des paramètres aj \u001b[39;00m\n\u001b[1;32m---> <a href='vscode-notebook-cell:/e%3A/univ/APM/TP1_Pr3_BAKTACHE_BELAKEHAL_DADDIOUAMER_.ipynb#X34sZmlsZQ%3D%3D?line=15'>16</a>\u001b[0m a \u001b[39m=\u001b[39m np\u001b[39m.\u001b[39mzeros(X_train\u001b[39m.\u001b[39mshape[\u001b[39m1\u001b[39m] \u001b[39m+\u001b[39m \u001b[39m1\u001b[39m)\n\u001b[0;32m     <a href='vscode-notebook-cell:/e%3A/univ/APM/TP1_Pr3_BAKTACHE_BELAKEHAL_DADDIOUAMER_.ipynb#X34sZmlsZQ%3D%3D?line=16'>17</a>\u001b[0m \u001b[39m# alpha est le learning rate\u001b[39;00m\n\u001b[0;32m     <a href='vscode-notebook-cell:/e%3A/univ/APM/TP1_Pr3_BAKTACHE_BELAKEHAL_DADDIOUAMER_.ipynb#X34sZmlsZQ%3D%3D?line=17'>18</a>\u001b[0m alpha\u001b[39m=\u001b[39m\u001b[39m0.01\u001b[39m\n",
      "\u001b[1;31mNameError\u001b[0m: name 'X_train' is not defined"
     ]
    }
   ],
   "source": [
    "import numpy as np\n",
    "\n",
    "# Supposons que vous ayez déjà défini la fonction de coût J et la fonction derivees_partielles\n",
    "def J(X, Y, a):\n",
    "    # Implémentez votre fonction de coût ici\n",
    "    pass\n",
    "\n",
    "def derivees_partielles(X, Y, a):\n",
    "    # Implémentez votre fonction pour calculer les dérivées partielles ici\n",
    "    pass\n",
    "\n",
    "\n",
    "\n",
    "# initialisation des parametres\n",
    "# a est un vecteur contenant les valeurs initiales des paramètres aj \n",
    "a = np.zeros(X_train.shape[1] + 1)\n",
    "# alpha est le learning rate\n",
    "alpha=0.01\n",
    "#max_inter est le nombre max des itérations\n",
    "max_iter=300\n",
    "\n",
    "# todo \n",
    "#lancer l'algorithme de descente du gradient\n",
    "def gradient_descent(X, Y, a,alpha,max_iter):\n",
    "    \n",
    "    \"\"\"\n",
    "    MAJ des parametres du modele\n",
    "    Calcul de Cost \n",
    "    Args:\n",
    "      X (ndarray : Data, n examples \n",
    "      Y (ndarray): Label, n labels   \n",
    "      a          : model parameters  \n",
    "      alpha: learning rate\n",
    "      max_iter   : maxumum number of iterations\n",
    "   \n",
    "    \n",
    "    Returns\n",
    "        new_a, Cost\n",
    "    \"\"\"\n",
    "    Costs = []  # To save the cost\n",
    "\n",
    "    for _ in range(max_iter):\n",
    "        # Calculate the cost\n",
    "        Cost = J(X, Y, a)\n",
    "        Costs.append(Cost)\n",
    "\n",
    "        # Calculate the derivatives\n",
    "        deriv = derivees_partielles(X, Y, a)\n",
    "\n",
    "        # Update the parameters\n",
    "        a -= alpha * deriv\n",
    "\n",
    "    return a, Costs\n",
    "\n",
    "\n",
    "\n",
    "\n",
    "\n",
    "\n",
    "\n",
    "\n",
    "\n"
   ]
  },
  {
   "cell_type": "code",
   "execution_count": 23,
   "metadata": {},
   "outputs": [
    {
     "ename": "NameError",
     "evalue": "name 'y_train' is not defined",
     "output_type": "error",
     "traceback": [
      "\u001b[1;31m---------------------------------------------------------------------------\u001b[0m",
      "\u001b[1;31mNameError\u001b[0m                                 Traceback (most recent call last)",
      "\u001b[1;32me:\\univ\\APM\\TP1_Pr3_BAKTACHE_BELAKEHAL_DADDIOUAMER_.ipynb Cellule 27\u001b[0m line \u001b[0;36m1\n\u001b[1;32m----> <a href='vscode-notebook-cell:/e%3A/univ/APM/TP1_Pr3_BAKTACHE_BELAKEHAL_DADDIOUAMER_.ipynb#X35sZmlsZQ%3D%3D?line=0'>1</a>\u001b[0m y_train \u001b[39m=\u001b[39m np\u001b[39m.\u001b[39marray(y_train)\u001b[39m.\u001b[39mreshape(\u001b[39m-\u001b[39m\u001b[39m1\u001b[39m, \u001b[39m1\u001b[39m)  \u001b[39m# Reshaping the target variable\u001b[39;00m\n\u001b[0;32m      <a href='vscode-notebook-cell:/e%3A/univ/APM/TP1_Pr3_BAKTACHE_BELAKEHAL_DADDIOUAMER_.ipynb#X35sZmlsZQ%3D%3D?line=1'>2</a>\u001b[0m \u001b[39mprint\u001b[39m(X_train\u001b[39m.\u001b[39mshape,y_train\u001b[39m.\u001b[39mshape)\n",
      "\u001b[1;31mNameError\u001b[0m: name 'y_train' is not defined"
     ]
    }
   ],
   "source": [
    "\n",
    "y_train = np.array(y_train).reshape(-1, 1)  # Reshaping the target variable\n",
    "print(X_train.shape,y_train.shape)"
   ]
  },
  {
   "cell_type": "markdown",
   "metadata": {},
   "source": [
    "### III-6. régression lineaire multiple avec l'Algorithme de déscente du gradient"
   ]
  },
  {
   "cell_type": "code",
   "execution_count": 24,
   "metadata": {},
   "outputs": [
    {
     "ename": "NameError",
     "evalue": "name 'X_train' is not defined",
     "output_type": "error",
     "traceback": [
      "\u001b[1;31m---------------------------------------------------------------------------\u001b[0m",
      "\u001b[1;31mNameError\u001b[0m                                 Traceback (most recent call last)",
      "\u001b[1;32me:\\univ\\APM\\TP1_Pr3_BAKTACHE_BELAKEHAL_DADDIOUAMER_.ipynb Cellule 29\u001b[0m line \u001b[0;36m1\n\u001b[1;32m----> <a href='vscode-notebook-cell:/e%3A/univ/APM/TP1_Pr3_BAKTACHE_BELAKEHAL_DADDIOUAMER_.ipynb#X40sZmlsZQ%3D%3D?line=0'>1</a>\u001b[0m XX_train\u001b[39m=\u001b[39mnp\u001b[39m.\u001b[39mc_[np\u001b[39m.\u001b[39mones(X_train\u001b[39m.\u001b[39mshape[\u001b[39m0\u001b[39m]),X_train]\n\u001b[0;32m      <a href='vscode-notebook-cell:/e%3A/univ/APM/TP1_Pr3_BAKTACHE_BELAKEHAL_DADDIOUAMER_.ipynb#X40sZmlsZQ%3D%3D?line=1'>2</a>\u001b[0m \u001b[39mprint\u001b[39m(XX_train\u001b[39m.\u001b[39mshape)\n",
      "\u001b[1;31mNameError\u001b[0m: name 'X_train' is not defined"
     ]
    }
   ],
   "source": [
    "XX_train=np.c_[np.ones(X_train.shape[0]),X_train]\n",
    "print(XX_train.shape)"
   ]
  },
  {
   "cell_type": "code",
   "execution_count": 26,
   "metadata": {},
   "outputs": [
    {
     "ename": "NameError",
     "evalue": "name 'X_train' is not defined",
     "output_type": "error",
     "traceback": [
      "\u001b[1;31m---------------------------------------------------------------------------\u001b[0m",
      "\u001b[1;31mNameError\u001b[0m                                 Traceback (most recent call last)",
      "\u001b[1;32me:\\univ\\APM\\TP1_Pr3_BAKTACHE_BELAKEHAL_DADDIOUAMER_.ipynb Cellule 30\u001b[0m line \u001b[0;36m2\n\u001b[0;32m      <a href='vscode-notebook-cell:/e%3A/univ/APM/TP1_Pr3_BAKTACHE_BELAKEHAL_DADDIOUAMER_.ipynb#X41sZmlsZQ%3D%3D?line=0'>1</a>\u001b[0m \u001b[39m#[new_a,Cost]=gradient_descent(XX_train, y_train, a,alpha,1000)\u001b[39;00m\n\u001b[1;32m----> <a href='vscode-notebook-cell:/e%3A/univ/APM/TP1_Pr3_BAKTACHE_BELAKEHAL_DADDIOUAMER_.ipynb#X41sZmlsZQ%3D%3D?line=1'>2</a>\u001b[0m XX_train\u001b[39m=\u001b[39mnp\u001b[39m.\u001b[39mc_[np\u001b[39m.\u001b[39mones(X_train\u001b[39m.\u001b[39mshape[\u001b[39m0\u001b[39m]),X_train]\n\u001b[0;32m      <a href='vscode-notebook-cell:/e%3A/univ/APM/TP1_Pr3_BAKTACHE_BELAKEHAL_DADDIOUAMER_.ipynb#X41sZmlsZQ%3D%3D?line=2'>3</a>\u001b[0m \u001b[39mprint\u001b[39m(XX_train\u001b[39m.\u001b[39mshape)\n",
      "\u001b[1;31mNameError\u001b[0m: name 'X_train' is not defined"
     ]
    }
   ],
   "source": [
    "#[new_a,Cost]=gradient_descent(XX_train, y_train, a,alpha,1000)"
   ]
  },
  {
   "cell_type": "markdown",
   "metadata": {},
   "source": [
    "###  L'algorithme ne marche pas.   Que faut t'il faire?"
   ]
  },
  {
   "cell_type": "code",
   "execution_count": 25,
   "metadata": {},
   "outputs": [
    {
     "ename": "NameError",
     "evalue": "name 'XX_train' is not defined",
     "output_type": "error",
     "traceback": [
      "\u001b[1;31m---------------------------------------------------------------------------\u001b[0m",
      "\u001b[1;31mNameError\u001b[0m                                 Traceback (most recent call last)",
      "\u001b[1;32me:\\univ\\APM\\TP1_Pr3_BAKTACHE_BELAKEHAL_DADDIOUAMER_.ipynb Cellule 32\u001b[0m line \u001b[0;36m2\n\u001b[0;32m      <a href='vscode-notebook-cell:/e%3A/univ/APM/TP1_Pr3_BAKTACHE_BELAKEHAL_DADDIOUAMER_.ipynb#X43sZmlsZQ%3D%3D?line=0'>1</a>\u001b[0m \u001b[39m#todo\u001b[39;00m\n\u001b[1;32m----> <a href='vscode-notebook-cell:/e%3A/univ/APM/TP1_Pr3_BAKTACHE_BELAKEHAL_DADDIOUAMER_.ipynb#X43sZmlsZQ%3D%3D?line=1'>2</a>\u001b[0m Xnorm\u001b[39m=\u001b[39m(XX_train\u001b[39m-\u001b[39mXX_train\u001b[39m.\u001b[39mmean(axis\u001b[39m=\u001b[39m\u001b[39m0\u001b[39m))\u001b[39m/\u001b[39mX_train\u001b[39m.\u001b[39mstd(axis\u001b[39m=\u001b[39m\u001b[39m0\u001b[39m)\n\u001b[0;32m      <a href='vscode-notebook-cell:/e%3A/univ/APM/TP1_Pr3_BAKTACHE_BELAKEHAL_DADDIOUAMER_.ipynb#X43sZmlsZQ%3D%3D?line=2'>3</a>\u001b[0m Xnorm1\u001b[39m=\u001b[39mnp\u001b[39m.\u001b[39mc_[np\u001b[39m.\u001b[39mones(Xnorm\u001b[39m.\u001b[39mshape[\u001b[39m0\u001b[39m]),Xnorm]\n\u001b[0;32m      <a href='vscode-notebook-cell:/e%3A/univ/APM/TP1_Pr3_BAKTACHE_BELAKEHAL_DADDIOUAMER_.ipynb#X43sZmlsZQ%3D%3D?line=3'>4</a>\u001b[0m [new_a,Cost]\u001b[39m=\u001b[39mgradient_descent(XX_train, y_train, a\u001b[39m.\u001b[39mreshape(\u001b[39m-\u001b[39m\u001b[39m1\u001b[39m, \u001b[39m1\u001b[39m),alpha,\u001b[39m1000\u001b[39m)\n",
      "\u001b[1;31mNameError\u001b[0m: name 'XX_train' is not defined"
     ]
    }
   ],
   "source": [
    "\n",
    "#todo\n",
    "Xnorm=(XX_train-XX_train.mean(axis=0))/X_train.std(axis=0)\n",
    "Xnorm1=np.c_[np.ones(Xnorm.shape[0]),Xnorm]\n",
    "[new_a,Cost]=gradient_descent(XX_train, y_train, a.reshape(-1, 1),alpha,4000)"
   ]
  },
  {
   "cell_type": "markdown",
   "metadata": {},
   "source": [
    "### Afficher la courbe de la fonction coût en fonction des itérations"
   ]
  },
  {
   "cell_type": "code",
   "execution_count": 27,
   "metadata": {},
   "outputs": [
    {
     "ename": "NameError",
     "evalue": "name 'Cost' is not defined",
     "output_type": "error",
     "traceback": [
      "\u001b[1;31m---------------------------------------------------------------------------\u001b[0m",
      "\u001b[1;31mNameError\u001b[0m                                 Traceback (most recent call last)",
      "\u001b[1;32me:\\univ\\APM\\TP1_Pr3_BAKTACHE_BELAKEHAL_DADDIOUAMER_.ipynb Cellule 34\u001b[0m line \u001b[0;36m1\n\u001b[1;32m----> <a href='vscode-notebook-cell:/e%3A/univ/APM/TP1_Pr3_BAKTACHE_BELAKEHAL_DADDIOUAMER_.ipynb#X45sZmlsZQ%3D%3D?line=0'>1</a>\u001b[0m pl\u001b[39m.\u001b[39mplot(Cost)\n\u001b[0;32m      <a href='vscode-notebook-cell:/e%3A/univ/APM/TP1_Pr3_BAKTACHE_BELAKEHAL_DADDIOUAMER_.ipynb#X45sZmlsZQ%3D%3D?line=1'>2</a>\u001b[0m pl\u001b[39m.\u001b[39mshow()\n\u001b[0;32m      <a href='vscode-notebook-cell:/e%3A/univ/APM/TP1_Pr3_BAKTACHE_BELAKEHAL_DADDIOUAMER_.ipynb#X45sZmlsZQ%3D%3D?line=2'>3</a>\u001b[0m \u001b[39mprint\u001b[39m (\u001b[39m\"\u001b[39m\u001b[39mles parametres du modèle sont:\u001b[39m\u001b[39m\"\u001b[39m, new_a)\n",
      "\u001b[1;31mNameError\u001b[0m: name 'Cost' is not defined"
     ]
    }
   ],
   "source": [
    "pl.plot(Cost)\n",
    "pl.show()\n",
    "print (\"les parametres du modèle sont:\", new_a)\n",
    "a0=new_a[0](-X_train.mean()/X.std()*new_a)\n",
    "a1=new_[a1]/X_train.std()\n",
    "print('normalisées valeurs ',a0,a1)"
   ]
  },
  {
   "cell_type": "markdown",
   "metadata": {},
   "source": [
    "###  Est ce que le nombre des itérations est bon? \n",
    "###  pourquoi?\n"
   ]
  },
  {
   "cell_type": "code",
   "execution_count": 29,
   "metadata": {},
   "outputs": [
    {
     "ename": "NameError",
     "evalue": "name 'gradient_descent' is not defined",
     "output_type": "error",
     "traceback": [
      "\u001b[1;31m---------------------------------------------------------------------------\u001b[0m",
      "\u001b[1;31mNameError\u001b[0m                                 Traceback (most recent call last)",
      "\u001b[1;32me:\\univ\\APM\\TP1_Pr3_BAKTACHE_BELAKEHAL_DADDIOUAMER_.ipynb Cellule 36\u001b[0m line \u001b[0;36m2\n\u001b[0;32m      <a href='vscode-notebook-cell:/e%3A/univ/APM/TP1_Pr3_BAKTACHE_BELAKEHAL_DADDIOUAMER_.ipynb#X50sZmlsZQ%3D%3D?line=0'>1</a>\u001b[0m \u001b[39m# TODO : Tester d'autres valeurs du learning_rate :   0.1,   0.05,  0.01\u001b[39;00m\n\u001b[1;32m----> <a href='vscode-notebook-cell:/e%3A/univ/APM/TP1_Pr3_BAKTACHE_BELAKEHAL_DADDIOUAMER_.ipynb#X50sZmlsZQ%3D%3D?line=1'>2</a>\u001b[0m a1,cost1\u001b[39m=\u001b[39mgradient_descent(Xnorm1,y_train,a,\u001b[39m0.1\u001b[39m,\u001b[39m300\u001b[39m)\n\u001b[0;32m      <a href='vscode-notebook-cell:/e%3A/univ/APM/TP1_Pr3_BAKTACHE_BELAKEHAL_DADDIOUAMER_.ipynb#X50sZmlsZQ%3D%3D?line=2'>3</a>\u001b[0m a2,cost2\u001b[39m=\u001b[39mgradient_descent(X_norm1,y_train,a,\u001b[39m0.05\u001b[39m,\u001b[39m300\u001b[39m)\n\u001b[0;32m      <a href='vscode-notebook-cell:/e%3A/univ/APM/TP1_Pr3_BAKTACHE_BELAKEHAL_DADDIOUAMER_.ipynb#X50sZmlsZQ%3D%3D?line=3'>4</a>\u001b[0m a3,cost3\u001b[39m=\u001b[39mgradient_descent(Xnorm1,y_train,a,\u001b[39m0.01\u001b[39m,\u001b[39m300\u001b[39m)\n",
      "\u001b[1;31mNameError\u001b[0m: name 'gradient_descent' is not defined"
     ]
    }
   ],
   "source": [
    "# TODO : Tester d'autres valeurs du learning_rate :   0.1,   0.05,  0.01\n",
    "a1,cost1=gradient_descent(Xnorm1,y_train,a,0.1,300)\n",
    "a2,cost2=gradient_descent(X_norm1,y_train,a,0.05,300)\n",
    "a3,cost3=gradient_descent(Xnorm1,y_train,a,0.01,300)\n",
    "pl.plot(cost1,label=\"0.1\")\n",
    "pl.plot(cost2,label=\"0.05\")\n",
    "pl.plot(cost3,label=\"0.01\")\n",
    "pl.legend()\n",
    "pl.show()\n",
    "\n",
    "\n",
    "\n",
    "learning_rates = [0.1, 0.05, 0.01]\n",
    "num_iterations = 1000\n",
    "\n",
    "results = []  # To store the results for each learning rate\n",
    "\n",
    "pl.figure(figsize=(10, 6))\n",
    "\n",
    "for alpha in learning_rates:\n",
    "    a_initial = np.zeros(X_train.shape[1] + 1)\n",
    "    a, costs = gradient_descent(XX_train, y_train, a_initial.reshape(-1, 1), alpha, num_iterations)\n",
    "    \n",
    "    # Store the results for each learning rate\n",
    "    results.append({\n",
    "        'learning_rate': alpha,\n",
    "        'final_parameters': a.flatten(),\n",
    "        'costs': costs\n",
    "    })\n",
    "    \n",
    "    # Plot the cost curve for each learning rate\n",
    "    pl.plot(range(num_iterations), costs, label=f'Learning Rate: {alpha}')\n",
    "\n",
    "# todo\n",
    "# Affichage des courbes des coûts pou chaque learning rate:\n",
    "pl.xlabel('Iterations')\n",
    "pl.ylabel('Cost')\n",
    "pl.title('Cost Curves for Each Learning Rate')\n",
    "pl.legend()\n",
    "pl.show()"
   ]
  },
  {
   "cell_type": "code",
   "execution_count": null,
   "metadata": {},
   "outputs": [
    {
     "ename": "ValueError",
     "evalue": "shapes (66,5) and (6,) not aligned: 5 (dim 1) != 6 (dim 0)",
     "output_type": "error",
     "traceback": [
      "\u001b[1;31m---------------------------------------------------------------------------\u001b[0m",
      "\u001b[1;31mValueError\u001b[0m                                Traceback (most recent call last)",
      "\u001b[1;32mc:\\Users\\User\\Desktop\\TP1_Pr3_BAKTACHE_BELAKEHAL_DADDIOUAMER_.ipynb Cellule 37\u001b[0m line \u001b[0;36m2\n\u001b[0;32m     <a href='vscode-notebook-cell:/c%3A/Users/User/Desktop/TP1_Pr3_BAKTACHE_BELAKEHAL_DADDIOUAMER_.ipynb#X51sZmlsZQ%3D%3D?line=20'>21</a>\u001b[0m \u001b[39mfor\u001b[39;00m initialization_type \u001b[39min\u001b[39;00m initialization_types:\n\u001b[0;32m     <a href='vscode-notebook-cell:/c%3A/Users/User/Desktop/TP1_Pr3_BAKTACHE_BELAKEHAL_DADDIOUAMER_.ipynb#X51sZmlsZQ%3D%3D?line=21'>22</a>\u001b[0m     a_initial \u001b[39m=\u001b[39m initialize_parameters(XX_train\u001b[39m.\u001b[39mshape[\u001b[39m1\u001b[39m] \u001b[39m+\u001b[39m \u001b[39m1\u001b[39m, initialization_type)\n\u001b[1;32m---> <a href='vscode-notebook-cell:/c%3A/Users/User/Desktop/TP1_Pr3_BAKTACHE_BELAKEHAL_DADDIOUAMER_.ipynb#X51sZmlsZQ%3D%3D?line=22'>23</a>\u001b[0m     a, costs \u001b[39m=\u001b[39m gradient_descent(XX_train, y_train, a_initial, learning_rate, max_iterations)\n\u001b[0;32m     <a href='vscode-notebook-cell:/c%3A/Users/User/Desktop/TP1_Pr3_BAKTACHE_BELAKEHAL_DADDIOUAMER_.ipynb#X51sZmlsZQ%3D%3D?line=24'>25</a>\u001b[0m     results\u001b[39m.\u001b[39mappend({\n\u001b[0;32m     <a href='vscode-notebook-cell:/c%3A/Users/User/Desktop/TP1_Pr3_BAKTACHE_BELAKEHAL_DADDIOUAMER_.ipynb#X51sZmlsZQ%3D%3D?line=25'>26</a>\u001b[0m         \u001b[39m'\u001b[39m\u001b[39minitialization_type\u001b[39m\u001b[39m'\u001b[39m: initialization_type,\n\u001b[0;32m     <a href='vscode-notebook-cell:/c%3A/Users/User/Desktop/TP1_Pr3_BAKTACHE_BELAKEHAL_DADDIOUAMER_.ipynb#X51sZmlsZQ%3D%3D?line=26'>27</a>\u001b[0m         \u001b[39m'\u001b[39m\u001b[39mfinal_parameters\u001b[39m\u001b[39m'\u001b[39m: a\u001b[39m.\u001b[39mflatten(),\n\u001b[0;32m     <a href='vscode-notebook-cell:/c%3A/Users/User/Desktop/TP1_Pr3_BAKTACHE_BELAKEHAL_DADDIOUAMER_.ipynb#X51sZmlsZQ%3D%3D?line=27'>28</a>\u001b[0m         \u001b[39m'\u001b[39m\u001b[39mcosts\u001b[39m\u001b[39m'\u001b[39m: costs\n\u001b[0;32m     <a href='vscode-notebook-cell:/c%3A/Users/User/Desktop/TP1_Pr3_BAKTACHE_BELAKEHAL_DADDIOUAMER_.ipynb#X51sZmlsZQ%3D%3D?line=28'>29</a>\u001b[0m     })\n\u001b[0;32m     <a href='vscode-notebook-cell:/c%3A/Users/User/Desktop/TP1_Pr3_BAKTACHE_BELAKEHAL_DADDIOUAMER_.ipynb#X51sZmlsZQ%3D%3D?line=30'>31</a>\u001b[0m     pl\u001b[39m.\u001b[39mplot(\u001b[39mrange\u001b[39m(max_iterations), costs, label\u001b[39m=\u001b[39m\u001b[39mf\u001b[39m\u001b[39m'\u001b[39m\u001b[39mInitialization: \u001b[39m\u001b[39m{\u001b[39;00minitialization_type\u001b[39m}\u001b[39;00m\u001b[39m'\u001b[39m)\n",
      "\u001b[1;32mc:\\Users\\User\\Desktop\\TP1_Pr3_BAKTACHE_BELAKEHAL_DADDIOUAMER_.ipynb Cellule 37\u001b[0m line \u001b[0;36m3\n\u001b[0;32m     <a href='vscode-notebook-cell:/c%3A/Users/User/Desktop/TP1_Pr3_BAKTACHE_BELAKEHAL_DADDIOUAMER_.ipynb#X51sZmlsZQ%3D%3D?line=26'>27</a>\u001b[0m Costs \u001b[39m=\u001b[39m []  \u001b[39m# To save the cost\u001b[39;00m\n\u001b[0;32m     <a href='vscode-notebook-cell:/c%3A/Users/User/Desktop/TP1_Pr3_BAKTACHE_BELAKEHAL_DADDIOUAMER_.ipynb#X51sZmlsZQ%3D%3D?line=28'>29</a>\u001b[0m \u001b[39mfor\u001b[39;00m _ \u001b[39min\u001b[39;00m \u001b[39mrange\u001b[39m(max_iter):\n\u001b[0;32m     <a href='vscode-notebook-cell:/c%3A/Users/User/Desktop/TP1_Pr3_BAKTACHE_BELAKEHAL_DADDIOUAMER_.ipynb#X51sZmlsZQ%3D%3D?line=29'>30</a>\u001b[0m     \u001b[39m# Calculate the cost\u001b[39;00m\n\u001b[1;32m---> <a href='vscode-notebook-cell:/c%3A/Users/User/Desktop/TP1_Pr3_BAKTACHE_BELAKEHAL_DADDIOUAMER_.ipynb#X51sZmlsZQ%3D%3D?line=30'>31</a>\u001b[0m     Cost \u001b[39m=\u001b[39m J(X, Y, a)\n\u001b[0;32m     <a href='vscode-notebook-cell:/c%3A/Users/User/Desktop/TP1_Pr3_BAKTACHE_BELAKEHAL_DADDIOUAMER_.ipynb#X51sZmlsZQ%3D%3D?line=31'>32</a>\u001b[0m     Costs\u001b[39m.\u001b[39mappend(Cost)\n\u001b[0;32m     <a href='vscode-notebook-cell:/c%3A/Users/User/Desktop/TP1_Pr3_BAKTACHE_BELAKEHAL_DADDIOUAMER_.ipynb#X51sZmlsZQ%3D%3D?line=33'>34</a>\u001b[0m     \u001b[39m# Calculate the derivatives\u001b[39;00m\n",
      "\u001b[1;32mc:\\Users\\User\\Desktop\\TP1_Pr3_BAKTACHE_BELAKEHAL_DADDIOUAMER_.ipynb Cellule 37\u001b[0m line \u001b[0;36m1\n\u001b[0;32m      <a href='vscode-notebook-cell:/c%3A/Users/User/Desktop/TP1_Pr3_BAKTACHE_BELAKEHAL_DADDIOUAMER_.ipynb#X51sZmlsZQ%3D%3D?line=3'>4</a>\u001b[0m \u001b[39mdef\u001b[39;00m \u001b[39mJ\u001b[39m(X,Y,a):\n\u001b[0;32m      <a href='vscode-notebook-cell:/c%3A/Users/User/Desktop/TP1_Pr3_BAKTACHE_BELAKEHAL_DADDIOUAMER_.ipynb#X51sZmlsZQ%3D%3D?line=4'>5</a>\u001b[0m \u001b[39m    \u001b[39m\u001b[39m\"\"\"\u001b[39;00m\n\u001b[0;32m      <a href='vscode-notebook-cell:/c%3A/Users/User/Desktop/TP1_Pr3_BAKTACHE_BELAKEHAL_DADDIOUAMER_.ipynb#X51sZmlsZQ%3D%3D?line=5'>6</a>\u001b[0m \u001b[39m    Calculer  J.\u001b[39;00m\n\u001b[0;32m      <a href='vscode-notebook-cell:/c%3A/Users/User/Desktop/TP1_Pr3_BAKTACHE_BELAKEHAL_DADDIOUAMER_.ipynb#X51sZmlsZQ%3D%3D?line=6'>7</a>\u001b[0m \u001b[39m     \u001b[39;00m\n\u001b[1;32m   (...)\u001b[0m\n\u001b[0;32m     <a href='vscode-notebook-cell:/c%3A/Users/User/Desktop/TP1_Pr3_BAKTACHE_BELAKEHAL_DADDIOUAMER_.ipynb#X51sZmlsZQ%3D%3D?line=15'>16</a>\u001b[0m \u001b[39m        J\u001b[39;00m\n\u001b[0;32m     <a href='vscode-notebook-cell:/c%3A/Users/User/Desktop/TP1_Pr3_BAKTACHE_BELAKEHAL_DADDIOUAMER_.ipynb#X51sZmlsZQ%3D%3D?line=16'>17</a>\u001b[0m \u001b[39m    \"\"\"\u001b[39;00m\n\u001b[1;32m---> <a href='vscode-notebook-cell:/c%3A/Users/User/Desktop/TP1_Pr3_BAKTACHE_BELAKEHAL_DADDIOUAMER_.ipynb#X51sZmlsZQ%3D%3D?line=17'>18</a>\u001b[0m     \u001b[39mreturn\u001b[39;00m (\u001b[39m1\u001b[39m \u001b[39m/\u001b[39m (\u001b[39mlen\u001b[39m(Y))) \u001b[39m*\u001b[39m np\u001b[39m.\u001b[39msum((Y \u001b[39m-\u001b[39m prediction(X, a))\u001b[39m*\u001b[39m\u001b[39m*\u001b[39m\u001b[39m2\u001b[39m)\n",
      "\u001b[1;32mc:\\Users\\User\\Desktop\\TP1_Pr3_BAKTACHE_BELAKEHAL_DADDIOUAMER_.ipynb Cellule 37\u001b[0m line \u001b[0;36m1\n\u001b[0;32m      <a href='vscode-notebook-cell:/c%3A/Users/User/Desktop/TP1_Pr3_BAKTACHE_BELAKEHAL_DADDIOUAMER_.ipynb#X51sZmlsZQ%3D%3D?line=3'>4</a>\u001b[0m \u001b[39mdef\u001b[39;00m \u001b[39mprediction\u001b[39m(X, a):\n\u001b[0;32m      <a href='vscode-notebook-cell:/c%3A/Users/User/Desktop/TP1_Pr3_BAKTACHE_BELAKEHAL_DADDIOUAMER_.ipynb#X51sZmlsZQ%3D%3D?line=4'>5</a>\u001b[0m \u001b[39m  \u001b[39m\u001b[39m\"\"\"\u001b[39;00m\n\u001b[0;32m      <a href='vscode-notebook-cell:/c%3A/Users/User/Desktop/TP1_Pr3_BAKTACHE_BELAKEHAL_DADDIOUAMER_.ipynb#X51sZmlsZQ%3D%3D?line=5'>6</a>\u001b[0m \u001b[39m  Calculate y_hat.\u001b[39;00m\n\u001b[0;32m      <a href='vscode-notebook-cell:/c%3A/Users/User/Desktop/TP1_Pr3_BAKTACHE_BELAKEHAL_DADDIOUAMER_.ipynb#X51sZmlsZQ%3D%3D?line=6'>7</a>\u001b[0m \u001b[39m    \u001b[39;00m\n\u001b[1;32m   (...)\u001b[0m\n\u001b[0;32m     <a href='vscode-notebook-cell:/c%3A/Users/User/Desktop/TP1_Pr3_BAKTACHE_BELAKEHAL_DADDIOUAMER_.ipynb#X51sZmlsZQ%3D%3D?line=12'>13</a>\u001b[0m \u001b[39m      y_hat\u001b[39;00m\n\u001b[0;32m     <a href='vscode-notebook-cell:/c%3A/Users/User/Desktop/TP1_Pr3_BAKTACHE_BELAKEHAL_DADDIOUAMER_.ipynb#X51sZmlsZQ%3D%3D?line=13'>14</a>\u001b[0m \u001b[39m  \"\"\"\u001b[39;00m\n\u001b[1;32m---> <a href='vscode-notebook-cell:/c%3A/Users/User/Desktop/TP1_Pr3_BAKTACHE_BELAKEHAL_DADDIOUAMER_.ipynb#X51sZmlsZQ%3D%3D?line=14'>15</a>\u001b[0m   \u001b[39mreturn\u001b[39;00m np\u001b[39m.\u001b[39;49mdot(X, a)\n",
      "\u001b[1;31mValueError\u001b[0m: shapes (66,5) and (6,) not aligned: 5 (dim 1) != 6 (dim 0)"
     ]
    },
    {
     "data": {
      "text/plain": [
       "<Figure size 1000x600 with 0 Axes>"
      ]
     },
     "metadata": {},
     "output_type": "display_data"
    }
   ],
   "source": [
    "# todo\n",
    "# tester une initialisation aléatoire, une initialisation à 1 pour le vecteur a en\n",
    "# fixant le rate learning à 0.01 et le max_iteration à 200\n",
    "# afficher les courbes des trois initialisations de a \n",
    "\n",
    "t,couts1=gradient_descent(Xnorm1,y_train,np.random.rand(Xnorm1.shape[1]),0.1)\n",
    "t,couts2=gradient_descent(Xnorm1,y_train,np.zeros(Xnorm1.shape[1]),0.1)\n",
    "t,couts3=gradient_descent(Xnorm1,y_train,np.ones.rand(Xnorm1.shape[1]),0.1)\n",
    "\n",
    "\n",
    "\n",
    "\n",
    "\n",
    "\n",
    "\n",
    "\n",
    "\n",
    "def initialize_parameters(shape, initialization_type='zero'):\n",
    "    if initialization_type == 'random':\n",
    "        return np.random.rand(shape)\n",
    "    elif initialization_type == 'ones':\n",
    "        return np.ones(shape)\n",
    "    else:\n",
    "        return np.zeros(shape)\n",
    "    \n",
    "learning_rate = 0.01\n",
    "max_iterations = 200\n",
    "\n",
    "initialization_types = ['random', 'ones', 'zero']\n",
    "results = []  # To store the results for each initialization type\n",
    "\n",
    "pl.figure(figsize=(10, 6))\n",
    "\n",
    "for initialization_type in initialization_types:\n",
    "    a_initial = initialize_parameters(XX_train.shape[1] + 1, initialization_type)\n",
    "    a, costs = gradient_descent(XX_train, y_train, a_initial, learning_rate, max_iterations)\n",
    "\n",
    "    results.append({\n",
    "        'initialization_type': initialization_type,\n",
    "        'final_parameters': a.flatten(),\n",
    "        'costs': costs\n",
    "    })\n",
    "\n",
    "    pl.plot(range(max_iterations), costs, label=f'Initialization: {initialization_type}')\n",
    "\n",
    "pl.xlabel('Iterations')\n",
    "pl.ylabel('Cost')\n",
    "pl.title('Cost Curves for Different Parameter Initializations')\n",
    "pl.legend()\n",
    "pl.show()\n"
   ]
  },
  {
   "cell_type": "code",
   "execution_count": null,
   "metadata": {},
   "outputs": [
    {
     "ename": "NameError",
     "evalue": "name 'y_hat' is not defined",
     "output_type": "error",
     "traceback": [
      "\u001b[1;31m---------------------------------------------------------------------------\u001b[0m",
      "\u001b[1;31mNameError\u001b[0m                                 Traceback (most recent call last)",
      "\u001b[1;32mc:\\Users\\D-Redouane\\Desktop\\TP-STIC\\APM1\\tp1\\TP1_Pr3_BAKTACHE_BELAKEHAL_DADDIOUAMER_.ipynb Cell 39\u001b[0m line \u001b[0;36m1\n\u001b[0;32m      <a href='vscode-notebook-cell:/c%3A/Users/D-Redouane/Desktop/TP-STIC/APM1/tp1/TP1_Pr3_BAKTACHE_BELAKEHAL_DADDIOUAMER_.ipynb#X53sZmlsZQ%3D%3D?line=7'>8</a>\u001b[0m     ax[i]\u001b[39m.\u001b[39mscatter(X_train[:\u001b[39m10\u001b[39m,i],y_train[:\u001b[39m10\u001b[39m], label \u001b[39m=\u001b[39m \u001b[39m'\u001b[39m\u001b[39mtarget\u001b[39m\u001b[39m'\u001b[39m)\n\u001b[0;32m      <a href='vscode-notebook-cell:/c%3A/Users/D-Redouane/Desktop/TP-STIC/APM1/tp1/TP1_Pr3_BAKTACHE_BELAKEHAL_DADDIOUAMER_.ipynb#X53sZmlsZQ%3D%3D?line=8'>9</a>\u001b[0m     ax[i]\u001b[39m.\u001b[39mset_xlabel(features[i])\n\u001b[1;32m---> <a href='vscode-notebook-cell:/c%3A/Users/D-Redouane/Desktop/TP-STIC/APM1/tp1/TP1_Pr3_BAKTACHE_BELAKEHAL_DADDIOUAMER_.ipynb#X53sZmlsZQ%3D%3D?line=9'>10</a>\u001b[0m     ax[i]\u001b[39m.\u001b[39mscatter(X_train[:\u001b[39m10\u001b[39m,i],y_hat[:\u001b[39m10\u001b[39m],color\u001b[39m=\u001b[39m\u001b[39m'\u001b[39m\u001b[39mred\u001b[39m\u001b[39m'\u001b[39m, label \u001b[39m=\u001b[39m \u001b[39m'\u001b[39m\u001b[39mpredict\u001b[39m\u001b[39m'\u001b[39m)\n\u001b[0;32m     <a href='vscode-notebook-cell:/c%3A/Users/D-Redouane/Desktop/TP-STIC/APM1/tp1/TP1_Pr3_BAKTACHE_BELAKEHAL_DADDIOUAMER_.ipynb#X53sZmlsZQ%3D%3D?line=11'>12</a>\u001b[0m ax[\u001b[39m0\u001b[39m]\u001b[39m.\u001b[39mset_ylabel(\u001b[39m\"\u001b[39m\u001b[39mPrice\u001b[39m\u001b[39m\"\u001b[39m); ax[\u001b[39m0\u001b[39m]\u001b[39m.\u001b[39mlegend();\n\u001b[0;32m     <a href='vscode-notebook-cell:/c%3A/Users/D-Redouane/Desktop/TP-STIC/APM1/tp1/TP1_Pr3_BAKTACHE_BELAKEHAL_DADDIOUAMER_.ipynb#X53sZmlsZQ%3D%3D?line=12'>13</a>\u001b[0m fig\u001b[39m.\u001b[39msuptitle(\u001b[39m\"\u001b[39m\u001b[39mRegression lineaire multiple avec l\u001b[39m\u001b[39m'\u001b[39m\u001b[39malgorithme de descente du gradient\u001b[39m\u001b[39m\"\u001b[39m)\n",
      "\u001b[1;31mNameError\u001b[0m: name 'y_hat' is not defined"
     ]
    },
    {
     "data": {
      "image/png": "[encoded data removed]",
      "text/plain": [
       "<Figure size 1200x300 with 4 Axes>"
      ]
     },
     "metadata": {},
     "output_type": "display_data"
    }
   ],
   "source": [
    "# plot predictions and targets vs original features    \n",
    "fig,ax=pl.subplots(1,4,figsize=(12,3),sharey=True)\n",
    "X_train=np.array(X_train)\n",
    "\n",
    "\n",
    "for i in range(len(ax)):\n",
    "     \n",
    "    ax[i].scatter(X_train[:10,i],y_train[:10], label = 'target')\n",
    "    ax[i].set_xlabel(features[i])\n",
    "    ax[i].scatter(X_train[:10,i],y_hat[:10],color='red', label = 'predict')\n",
    "\n",
    "ax[0].set_ylabel(\"Price\"); ax[0].legend();\n",
    "fig.suptitle(\"Regression lineaire multiple avec l'algorithme de descente du gradient\")\n",
    "pl.show()"
   ]
  },
  {
   "cell_type": "markdown",
   "metadata": {},
   "source": [
    "### III-9. régression lineaire multiple avec sklearn et Stochastic Gradient Descent Regressor"
   ]
  },
  {
   "cell_type": "markdown",
   "metadata": {},
   "source": [
    "### III-9-1 Déterminsation du modèle de regression"
   ]
  },
  {
   "cell_type": "code",
   "execution_count": null,
   "metadata": {},
   "outputs": [
    {
     "ename": "NameError",
     "evalue": "name 'Xnorm' is not defined",
     "output_type": "error",
     "traceback": [
      "\u001b[1;31m---------------------------------------------------------------------------\u001b[0m",
      "\u001b[1;31mNameError\u001b[0m                                 Traceback (most recent call last)",
      "\u001b[1;32mc:\\Users\\D-Redouane\\Desktop\\TP-STIC\\APM1\\tp1\\TP1_Pr3_BAKTACHE_BELAKEHAL_DADDIOUAMER_.ipynb Cell 42\u001b[0m line \u001b[0;36m7\n\u001b[0;32m      <a href='vscode-notebook-cell:/c%3A/Users/D-Redouane/Desktop/TP-STIC/APM1/tp1/TP1_Pr3_BAKTACHE_BELAKEHAL_DADDIOUAMER_.ipynb#X56sZmlsZQ%3D%3D?line=3'>4</a>\u001b[0m \u001b[39mfrom\u001b[39;00m \u001b[39msklearn\u001b[39;00m\u001b[39m.\u001b[39;00m\u001b[39mlinear_model\u001b[39;00m \u001b[39mimport\u001b[39;00m SGDRegressor\n\u001b[0;32m      <a href='vscode-notebook-cell:/c%3A/Users/D-Redouane/Desktop/TP-STIC/APM1/tp1/TP1_Pr3_BAKTACHE_BELAKEHAL_DADDIOUAMER_.ipynb#X56sZmlsZQ%3D%3D?line=4'>5</a>\u001b[0m sgdr \u001b[39m=\u001b[39m SGDRegressor(max_iter\u001b[39m=\u001b[39m\u001b[39m1000\u001b[39m)\n\u001b[1;32m----> <a href='vscode-notebook-cell:/c%3A/Users/D-Redouane/Desktop/TP-STIC/APM1/tp1/TP1_Pr3_BAKTACHE_BELAKEHAL_DADDIOUAMER_.ipynb#X56sZmlsZQ%3D%3D?line=6'>7</a>\u001b[0m sgdr\u001b[39m.\u001b[39mfit(Xnorm, y_train\u001b[39m.\u001b[39mravel())\n\u001b[0;32m      <a href='vscode-notebook-cell:/c%3A/Users/D-Redouane/Desktop/TP-STIC/APM1/tp1/TP1_Pr3_BAKTACHE_BELAKEHAL_DADDIOUAMER_.ipynb#X56sZmlsZQ%3D%3D?line=7'>8</a>\u001b[0m b \u001b[39m=\u001b[39m sgdr\u001b[39m.\u001b[39mintercept_\n\u001b[0;32m      <a href='vscode-notebook-cell:/c%3A/Users/D-Redouane/Desktop/TP-STIC/APM1/tp1/TP1_Pr3_BAKTACHE_BELAKEHAL_DADDIOUAMER_.ipynb#X56sZmlsZQ%3D%3D?line=8'>9</a>\u001b[0m w \u001b[39m=\u001b[39m sgdr\u001b[39m.\u001b[39mcoef_\n",
      "\u001b[1;31mNameError\u001b[0m: name 'Xnorm' is not defined"
     ]
    }
   ],
   "source": [
    "from sklearn.preprocessing import StandardScaler  # normalisation\n",
    "scaler = StandardScaler()\n",
    "X_norm = scaler.fit_transform(X_train)\n",
    "from sklearn.linear_model import SGDRegressor\n",
    "sgdr = SGDRegressor(max_iter=1000)\n",
    "\n",
    "sgdr.fit(Xnorm, y_train.ravel())\n",
    "b = sgdr.intercept_\n",
    "w = sgdr.coef_\n",
    "print(f\"model paraeters:                   w: {w}, b:{b}\")\n"
   ]
  },
  {
   "cell_type": "markdown",
   "metadata": {},
   "source": [
    "### III-6-2  Prédiction "
   ]
  },
  {
   "cell_type": "code",
   "execution_count": null,
   "metadata": {},
   "outputs": [
    {
     "name": "stdout",
     "output_type": "stream",
     "text": [
      "Prediction sgd regression on training set:\n",
      " [367.70036679 216.75417537 429.1586239  342.01816785]\n",
      "Target values \n",
      " [[334. ]\n",
      " [219.8]\n",
      " [449.8]\n",
      " [354. ]]\n",
      "source values \n",
      " [[1.486e+03 3.000e+00 1.000e+00 5.700e+01]\n",
      " [9.040e+02 3.000e+00 1.000e+00 5.500e+01]\n",
      " [1.768e+03 3.000e+00 2.000e+00 1.800e+01]\n",
      " [1.470e+03 3.000e+00 2.000e+00 2.400e+01]]\n"
     ]
    }
   ],
   "source": [
    "y_pred=sgdr.predict(Xnorm)\n",
    "print(f\"Prediction sgd regression on training set:\\n {sgdr.predict(Xnorm)[:4]}\" )\n",
    " \n",
    "print(f\"Target values \\n {y_train[:4]}\")\n",
    "print(f\"source values \\n {X_train[:4]}\")"
   ]
  },
  {
   "cell_type": "code",
   "execution_count": null,
   "metadata": {},
   "outputs": [],
   "source": [
    "# todo\n",
    "# faire la prédiction sur le test set"
   ]
  }
 ],
 "metadata": {
  "kernelspec": {
   "display_name": "Python 3",
   "language": "python",
   "name": "python3"
  },
  "language_info": {
   "codemirror_mode": {
    "name": "ipython",
    "version": 3
   },
   "file_extension": ".py",
   "mimetype": "text/x-python",
   "name": "python",
   "nbconvert_exporter": "python",
   "pygments_lexer": "ipython3",
   "version": "3.12.0"
  }
 },
 "nbformat": 4,
 "nbformat_minor": 2
}
