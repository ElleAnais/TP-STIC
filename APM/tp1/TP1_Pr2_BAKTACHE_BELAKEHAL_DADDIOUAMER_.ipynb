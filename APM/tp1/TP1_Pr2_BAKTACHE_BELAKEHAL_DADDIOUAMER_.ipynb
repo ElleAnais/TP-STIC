{
 "cells": [
  {
   "cell_type": "markdown",
   "metadata": {},
   "source": [
    "# TP1 Régression lineaire"
   ]
  },
  {
   "cell_type": "markdown",
   "metadata": {},
   "source": [
    "## II- Régression linéaire multiple avec la méthode des moindre carrés"
   ]
  },
  {
   "cell_type": "markdown",
   "metadata": {},
   "source": [
    "### Importation des librairies"
   ]
  },
  {
   "cell_type": "code",
   "execution_count": 38,
   "metadata": {},
   "outputs": [],
   "source": [
    "import numpy as np\n",
    "import matplotlib.pyplot as pl\n",
    "import pandas as pd\n"
   ]
  },
  {
   "cell_type": "markdown",
   "metadata": {},
   "source": [
    "### II-1. Lecture des données "
   ]
  },
  {
   "cell_type": "code",
   "execution_count": 39,
   "metadata": {},
   "outputs": [],
   "source": [
    "df = pd.read_csv('./house.txt')"
   ]
  },
  {
   "cell_type": "markdown",
   "metadata": {},
   "source": [
    "### II-2. Conversion du txt vers csv"
   ]
  },
  {
   "cell_type": "code",
   "execution_count": 40,
   "metadata": {},
   "outputs": [
    {
     "data": {
      "text/html": [
       "<div>\n",
       "<style scoped>\n",
       "    .dataframe tbody tr th:only-of-type {\n",
       "        vertical-align: middle;\n",
       "    }\n",
       "\n",
       "    .dataframe tbody tr th {\n",
       "        vertical-align: top;\n",
       "    }\n",
       "\n",
       "    .dataframe thead th {\n",
       "        text-align: right;\n",
       "    }\n",
       "</style>\n",
       "<table border=\"1\" class=\"dataframe\">\n",
       "  <thead>\n",
       "    <tr style=\"text-align: right;\">\n",
       "      <th></th>\n",
       "      <th>area</th>\n",
       "      <th>bedrooms</th>\n",
       "      <th>floors</th>\n",
       "      <th>age</th>\n",
       "      <th>price</th>\n",
       "    </tr>\n",
       "  </thead>\n",
       "  <tbody>\n",
       "    <tr>\n",
       "      <th>0</th>\n",
       "      <td>952.0</td>\n",
       "      <td>2.0</td>\n",
       "      <td>1.0</td>\n",
       "      <td>65.0</td>\n",
       "      <td>271.5</td>\n",
       "    </tr>\n",
       "    <tr>\n",
       "      <th>1</th>\n",
       "      <td>1244.0</td>\n",
       "      <td>3.0</td>\n",
       "      <td>1.0</td>\n",
       "      <td>64.0</td>\n",
       "      <td>300.0</td>\n",
       "    </tr>\n",
       "    <tr>\n",
       "      <th>2</th>\n",
       "      <td>1947.0</td>\n",
       "      <td>3.0</td>\n",
       "      <td>2.0</td>\n",
       "      <td>17.0</td>\n",
       "      <td>509.8</td>\n",
       "    </tr>\n",
       "    <tr>\n",
       "      <th>3</th>\n",
       "      <td>1725.0</td>\n",
       "      <td>3.0</td>\n",
       "      <td>2.0</td>\n",
       "      <td>42.0</td>\n",
       "      <td>394.0</td>\n",
       "    </tr>\n",
       "    <tr>\n",
       "      <th>4</th>\n",
       "      <td>1959.0</td>\n",
       "      <td>3.0</td>\n",
       "      <td>2.0</td>\n",
       "      <td>15.0</td>\n",
       "      <td>540.0</td>\n",
       "    </tr>\n",
       "  </tbody>\n",
       "</table>\n",
       "</div>"
      ],
      "text/plain": [
       "     area  bedrooms  floors   age  price\n",
       "0   952.0       2.0     1.0  65.0  271.5\n",
       "1  1244.0       3.0     1.0  64.0  300.0\n",
       "2  1947.0       3.0     2.0  17.0  509.8\n",
       "3  1725.0       3.0     2.0  42.0  394.0\n",
       "4  1959.0       3.0     2.0  15.0  540.0"
      ]
     },
     "execution_count": 40,
     "metadata": {},
     "output_type": "execute_result"
    }
   ],
   "source": [
    "df.to_csv('./house.csv',index=False)\n",
    "features=['area','bedrooms','floors','age','price']\n",
    "house = pd.read_csv('./house.csv',names=features)\n",
    "house.head()"
   ]
  },
  {
   "cell_type": "markdown",
   "metadata": {},
   "source": [
    "### II-3. extraction des features et du label"
   ]
  },
  {
   "cell_type": "code",
   "execution_count": 41,
   "metadata": {},
   "outputs": [],
   "source": [
    "X=house.iloc[:,:4]   # diviser house data en X (features) et y (labels)\n",
    "y=house.iloc[:,4]"
   ]
  },
  {
   "cell_type": "code",
   "execution_count": 42,
   "metadata": {},
   "outputs": [
    {
     "data": {
      "text/html": [
       "<div>\n",
       "<style scoped>\n",
       "    .dataframe tbody tr th:only-of-type {\n",
       "        vertical-align: middle;\n",
       "    }\n",
       "\n",
       "    .dataframe tbody tr th {\n",
       "        vertical-align: top;\n",
       "    }\n",
       "\n",
       "    .dataframe thead th {\n",
       "        text-align: right;\n",
       "    }\n",
       "</style>\n",
       "<table border=\"1\" class=\"dataframe\">\n",
       "  <thead>\n",
       "    <tr style=\"text-align: right;\">\n",
       "      <th></th>\n",
       "      <th>area</th>\n",
       "      <th>bedrooms</th>\n",
       "      <th>floors</th>\n",
       "      <th>age</th>\n",
       "    </tr>\n",
       "  </thead>\n",
       "  <tbody>\n",
       "    <tr>\n",
       "      <th>0</th>\n",
       "      <td>952.0</td>\n",
       "      <td>2.0</td>\n",
       "      <td>1.0</td>\n",
       "      <td>65.0</td>\n",
       "    </tr>\n",
       "    <tr>\n",
       "      <th>1</th>\n",
       "      <td>1244.0</td>\n",
       "      <td>3.0</td>\n",
       "      <td>1.0</td>\n",
       "      <td>64.0</td>\n",
       "    </tr>\n",
       "    <tr>\n",
       "      <th>2</th>\n",
       "      <td>1947.0</td>\n",
       "      <td>3.0</td>\n",
       "      <td>2.0</td>\n",
       "      <td>17.0</td>\n",
       "    </tr>\n",
       "    <tr>\n",
       "      <th>3</th>\n",
       "      <td>1725.0</td>\n",
       "      <td>3.0</td>\n",
       "      <td>2.0</td>\n",
       "      <td>42.0</td>\n",
       "    </tr>\n",
       "    <tr>\n",
       "      <th>4</th>\n",
       "      <td>1959.0</td>\n",
       "      <td>3.0</td>\n",
       "      <td>2.0</td>\n",
       "      <td>15.0</td>\n",
       "    </tr>\n",
       "  </tbody>\n",
       "</table>\n",
       "</div>"
      ],
      "text/plain": [
       "     area  bedrooms  floors   age\n",
       "0   952.0       2.0     1.0  65.0\n",
       "1  1244.0       3.0     1.0  64.0\n",
       "2  1947.0       3.0     2.0  17.0\n",
       "3  1725.0       3.0     2.0  42.0\n",
       "4  1959.0       3.0     2.0  15.0"
      ]
     },
     "execution_count": 42,
     "metadata": {},
     "output_type": "execute_result"
    }
   ],
   "source": [
    "X.head()"
   ]
  },
  {
   "cell_type": "code",
   "execution_count": 43,
   "metadata": {},
   "outputs": [
    {
     "data": {
      "text/plain": [
       "0    271.5\n",
       "1    300.0\n",
       "2    509.8\n",
       "3    394.0\n",
       "4    540.0\n",
       "Name: price, dtype: float64"
      ]
     },
     "execution_count": 43,
     "metadata": {},
     "output_type": "execute_result"
    }
   ],
   "source": [
    "y.head()"
   ]
  },
  {
   "cell_type": "markdown",
   "metadata": {},
   "source": [
    "### II-4. Division du dataset en données d'entrainement et données de test"
   ]
  },
  {
   "cell_type": "code",
   "execution_count": 44,
   "metadata": {},
   "outputs": [],
   "source": [
    "X=np.array(X)\n",
    "from sklearn.model_selection import train_test_split\n",
    "X_train,X_test,y_train,y_test=train_test_split(X,y,test_size=1/3,random_state=0)\n"
   ]
  },
  {
   "cell_type": "markdown",
   "metadata": {},
   "source": [
    "### II-5. regression linaire multiple avec la méthode des moindre carrés"
   ]
  },
  {
   "cell_type": "markdown",
   "metadata": {},
   "source": [
    "### II-5-1 Calcul des coefficients a_hat"
   ]
  },
  {
   "attachments": {
    "image.png": {
     "image/png": "[encoded data removed]"
    }
   },
   "cell_type": "markdown",
   "metadata": {},
   "source": [
    "Les parametres du modèle de regression linéaire multiple sont estimés par la méthode des moindres carrés.\n",
    "\n",
    "Les coefficients sont calculés par la formule suivante:\n",
    "\n",
    "![image.png](attachment:image.png)\n",
    "\n",
    "avec "
   ]
  },
  {
   "attachments": {
    "image.png": {
     "image/png": "[encoded data removed]"
    }
   },
   "cell_type": "markdown",
   "metadata": {},
   "source": [
    "![image.png](attachment:image.png)"
   ]
  },
  {
   "cell_type": "code",
   "execution_count": 45,
   "metadata": {},
   "outputs": [
    {
     "name": "stdout",
     "output_type": "stream",
     "text": [
      "         0    1    2      3\n",
      "0   1486.0  3.0  1.0   57.0\n",
      "1    904.0  3.0  1.0   55.0\n",
      "2   1768.0  3.0  2.0   18.0\n",
      "3   1470.0  3.0  2.0   24.0\n",
      "4   1040.0  3.0  1.0   25.0\n",
      "..     ...  ...  ...    ...\n",
      "61  1432.0  2.0  1.0   43.0\n",
      "62  1073.0  2.0  1.0  100.0\n",
      "63  1392.0  3.0  1.0   64.0\n",
      "64  1616.0  3.0  1.0   16.0\n",
      "65  1552.0  3.0  1.0   16.0\n",
      "\n",
      "[66 rows x 4 columns]\n",
      "      0       1    2    3      4\n",
      "0   1.0  1486.0  3.0  1.0   57.0\n",
      "1   1.0   904.0  3.0  1.0   55.0\n",
      "2   1.0  1768.0  3.0  2.0   18.0\n",
      "3   1.0  1470.0  3.0  2.0   24.0\n",
      "4   1.0  1040.0  3.0  1.0   25.0\n",
      "..  ...     ...  ...  ...    ...\n",
      "61  1.0  1432.0  2.0  1.0   43.0\n",
      "62  1.0  1073.0  2.0  1.0  100.0\n",
      "63  1.0  1392.0  3.0  1.0   64.0\n",
      "64  1.0  1616.0  3.0  1.0   16.0\n",
      "65  1.0  1552.0  3.0  1.0   16.0\n",
      "\n",
      "[66 rows x 5 columns]\n"
     ]
    }
   ],
   "source": [
    "#todo\n",
    "# ajouter une colonne de 1 à X_train\n",
    "# XX_train  sera la  matrice X_train à laquelle vous avez ajouté une colonne de 1\n",
    "print(pd.DataFrame(X_train))\n",
    "XX_train = np.concatenate((np.ones((X_train.shape[0], 1)), X_train), axis=1)\n",
    "#XX_train = np.hstack((np.ones((X_train.shape[0], 1)), X_train))\n",
    "print(pd.DataFrame(XX_train))\n",
    "\n",
    "#(363, 3)"
   ]
  },
  {
   "cell_type": "code",
   "execution_count": 46,
   "metadata": {},
   "outputs": [
    {
     "name": "stdout",
     "output_type": "stream",
     "text": [
      "[230.67976645   0.26553886 -36.26620653 -68.63386872  -1.39948582]\n"
     ]
    }
   ],
   "source": [
    "# todo \n",
    "#calculer les coefficents a_hat \n",
    "\n",
    "#pour inverser une matrice A \n",
    "#B= np.linalg.inv(A)\n",
    "\n",
    "def cal_coeff(X_train, y_train):\n",
    "    \n",
    "   \n",
    "  \"\"\"\n",
    "      Calculate the coefficients a_hat for multiple linear regression using the inverse.\n",
    "\n",
    "      Args:\n",
    "        X_train : Data, n examples \n",
    "        y_train : Label, n labels  \n",
    "\n",
    "      Returns:\n",
    "          a_hat : Coefficients for the linear regression model\n",
    "      \"\"\"\n",
    "      \n",
    "  # Calculate the coefficients a_hat using the inverse\n",
    "  a_hat = np.linalg.inv(X_train.T @ X_train).dot(X_train.T).dot(y_train)\n",
    "      \n",
    "  return a_hat\n",
    "a_hat = cal_coeff(XX_train, y_train)\n",
    "\n",
    "print(a_hat)\n"
   ]
  },
  {
   "cell_type": "markdown",
   "metadata": {},
   "source": [
    "### II-5-2. Faire la prédiction \\$\\$\\hat{Y} = \\hat{a} X\\$\\$"
   ]
  },
  {
   "cell_type": "code",
   "execution_count": 47,
   "metadata": {},
   "outputs": [
    {
     "name": "stdout",
     "output_type": "stream",
     "text": [
      "[[368.06733445]\n",
      " [216.3226888 ]\n",
      " [428.89537151]\n",
      " [341.36787593]]\n"
     ]
    }
   ],
   "source": [
    "#todo\n",
    "y_hat = XX_train @ a_hat\n",
    "\n",
    "y_hat = y_hat.reshape(-1, 1)\n",
    " \n",
    "print(y_hat[:4,:])"
   ]
  },
  {
   "cell_type": "markdown",
   "metadata": {},
   "source": [
    "### II-5.3. Calcul de la fonction coût  \n",
    "\\$\\$J = \\frac{1}{n} \\sum\\limits\\_{i=1}^{n}\n",
    "(Y - \\hat{Y})^2\\$\\$"
   ]
  },
  {
   "cell_type": "code",
   "execution_count": 48,
   "metadata": {},
   "outputs": [
    {
     "name": "stdout",
     "output_type": "stream",
     "text": [
      "(66, 1)\n"
     ]
    },
    {
     "data": {
      "text/plain": [
       "395.58312266284327"
      ]
     },
     "execution_count": 48,
     "metadata": {},
     "output_type": "execute_result"
    }
   ],
   "source": [
    "# todo\n",
    "def J(y_hat, y):\n",
    "    return np.mean((y_hat - y) ** 2)\n",
    "\n",
    "\n",
    "y_train=np.array(y_train).reshape(-1,1)\n",
    "print(y_train.shape)\n",
    "J(y_hat,y_train)"
   ]
  },
  {
   "cell_type": "markdown",
   "metadata": {},
   "source": [
    "### II-6-2. Régression linéaire multiple avec sklearn"
   ]
  },
  {
   "cell_type": "code",
   "execution_count": 49,
   "metadata": {},
   "outputs": [
    {
     "name": "stdout",
     "output_type": "stream",
     "text": [
      "Intercept: \n",
      " [230.67976645]\n",
      "Coefficients: \n",
      " [[  0.26553886 -36.26620653 -68.63386872  -1.39948582]]\n"
     ]
    }
   ],
   "source": [
    "from sklearn.linear_model import LinearRegression\n",
    "Regressor=LinearRegression()\n",
    "Regressor.fit(X_train,y_train)\n",
    "\n",
    "print('Intercept: \\n', Regressor.intercept_)\n",
    "print('Coefficients: \\n', Regressor.coef_)\n",
    " "
   ]
  },
  {
   "cell_type": "code",
   "execution_count": 50,
   "metadata": {},
   "outputs": [
    {
     "name": "stdout",
     "output_type": "stream",
     "text": [
      "[[368.06733445]\n",
      " [216.3226888 ]\n",
      " [428.89537151]\n",
      " [341.36787593]]\n"
     ]
    }
   ],
   "source": [
    "#prediction \n",
    "y_hat=Regressor.predict(X_train)\n",
    "y_hat.shape\n",
    "print(y_hat[:4])"
   ]
  },
  {
   "cell_type": "code",
   "execution_count": 51,
   "metadata": {},
   "outputs": [
    {
     "data": {
      "text/plain": [
       "395.58312266284304"
      ]
     },
     "execution_count": 51,
     "metadata": {},
     "output_type": "execute_result"
    }
   ],
   "source": [
    "# fonction coût\n",
    "J(y_hat,y_train)"
   ]
  },
  {
   "cell_type": "code",
   "execution_count": 52,
   "metadata": {},
   "outputs": [
    {
     "data": {
      "text/plain": [
       "395.58312266284304"
      ]
     },
     "execution_count": 52,
     "metadata": {},
     "output_type": "execute_result"
    }
   ],
   "source": [
    "from sklearn.metrics import mean_squared_error \n",
    "mean_squared_error(y_train,y_hat) "
   ]
  },
  {
   "cell_type": "code",
   "execution_count": 53,
   "metadata": {},
   "outputs": [
    {
     "name": "stdout",
     "output_type": "stream",
     "text": [
      "<class 'numpy.ndarray'>\n"
     ]
    },
    {
     "data": {
      "image/png": "[encoded data removed]",
      "text/plain": [
       "<Figure size 1200x300 with 4 Axes>"
      ]
     },
     "metadata": {},
     "output_type": "display_data"
    }
   ],
   "source": [
    "# plot predictions and targets vs original features    \n",
    "fig,ax=pl.subplots(1,4,figsize=(12,3),sharey=True)\n",
    "X_train=np.array(X_train)\n",
    "\n",
    "print(type(y_hat))\n",
    "for i in range(len(ax)):\n",
    "     \n",
    "    ax[i].scatter(X_train[:10,i],y_train[:10], label = 'target')\n",
    "    ax[i].set_xlabel(features[i])\n",
    "    ax[i].scatter(X_train[:10,i],y_hat[:10],color='red', label = 'predict')\n",
    "ax[0].set_ylabel(\"Price\"); ax[0].legend();\n",
    "fig.suptitle(\"regression lineaire multiple avec méthode des moindre carrés\")\n",
    "pl.show()"
   ]
  }
 ],
 "metadata": {
  "kernelspec": {
   "display_name": "Python 3",
   "language": "python",
   "name": "python3"
  },
  "language_info": {
   "codemirror_mode": {
    "name": "ipython",
    "version": 3
   },
   "file_extension": ".py",
   "mimetype": "text/x-python",
   "name": "python",
   "nbconvert_exporter": "python",
   "pygments_lexer": "ipython3",
   "version": "3.12.0"
  }
 },
 "nbformat": 4,
 "nbformat_minor": 2
}
